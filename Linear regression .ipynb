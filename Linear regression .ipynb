{
 "cells": [
  {
   "cell_type": "code",
   "execution_count": 33,
   "metadata": {},
   "outputs": [],
   "source": [
    "%matplotlib inline\n",
    "import numpy as np\n",
    "import matplotlib.pyplot as plt\n",
    "def plot_regression_line(x,y,z):\n",
    "    plt.scatter(x,y,color=\"g\",marker=\"o\",s=30)\n",
    "    y_st=z[0]+z[1]*x\n",
    "    plt.plot(x,y_st,color=\"r\")\n",
    "    plt.xlabel('Size')\n",
    "    plt.ylabel('Cost')\n",
    "    plt.show()       "
   ]
  },
  {
   "cell_type": "code",
   "execution_count": 170,
   "metadata": {},
   "outputs": [
    {
     "name": "stdout",
     "output_type": "stream",
     "text": [
      "enter number of x and y value: 6\n",
      "x:54.3\n",
      "y:61.2\n",
      "x:61.8\n",
      "y:49.5\n",
      "x:72.4\n",
      "y:37.6\n",
      "x:88.7\n",
      "y:28.4\n",
      "x:118.6\n",
      "y:19.2\n",
      "x:194.0\n",
      "y:10.1\n"
     ]
    }
   ],
   "source": [
    "s=input('enter number of x and y value: ')\n",
    "x_arr = []\n",
    "y_arr = []\n",
    "for i in range(int(s)):\n",
    "    x_arr.append(float(input('x:')))\n",
    "    y_arr.append(float(input('y:')))"
   ]
  },
  {
   "cell_type": "code",
   "execution_count": 171,
   "metadata": {},
   "outputs": [
    {
     "data": {
      "text/plain": [
       "[54.3, 61.8, 72.4, 88.7, 118.6, 194.0]"
      ]
     },
     "execution_count": 171,
     "metadata": {},
     "output_type": "execute_result"
    }
   ],
   "source": [
    "x_arr"
   ]
  },
  {
   "cell_type": "code",
   "execution_count": 172,
   "metadata": {},
   "outputs": [
    {
     "data": {
      "text/plain": [
       "[61.2, 49.5, 37.6, 28.4, 19.2, 10.1]"
      ]
     },
     "execution_count": 172,
     "metadata": {},
     "output_type": "execute_result"
    }
   ],
   "source": [
    "y_arr"
   ]
  },
  {
   "cell_type": "code",
   "execution_count": 173,
   "metadata": {},
   "outputs": [
    {
     "data": {
      "text/plain": [
       "array([1.73479983, 1.79098848, 1.85973857, 1.94792362, 2.07408469,\n",
       "       2.28780173])"
      ]
     },
     "execution_count": 173,
     "metadata": {},
     "output_type": "execute_result"
    }
   ],
   "source": [
    "x1_arr = np.log10(np.array(x_arr))\n",
    "x1_arr"
   ]
  },
  {
   "cell_type": "code",
   "execution_count": 174,
   "metadata": {},
   "outputs": [
    {
     "data": {
      "text/plain": [
       "array([1.78675142, 1.6946052 , 1.57518784, 1.45331834, 1.28330123,\n",
       "       1.00432137])"
      ]
     },
     "execution_count": 174,
     "metadata": {},
     "output_type": "execute_result"
    }
   ],
   "source": [
    "y1_arr = np.log10(np.array(y_arr))\n",
    "y1_arr"
   ]
  },
  {
   "cell_type": "code",
   "execution_count": 175,
   "metadata": {},
   "outputs": [
    {
     "data": {
      "text/plain": [
       "11.695336909665007"
      ]
     },
     "execution_count": 175,
     "metadata": {},
     "output_type": "execute_result"
    }
   ],
   "source": [
    "x_sum = np.sum(x1_arr)\n",
    "x_sum"
   ]
  },
  {
   "cell_type": "code",
   "execution_count": 176,
   "metadata": {},
   "outputs": [
    {
     "data": {
      "text/plain": [
       "8.797485408540021"
      ]
     },
     "execution_count": 176,
     "metadata": {},
     "output_type": "execute_result"
    }
   ],
   "source": [
    "y_sum = np.sum(y1_arr)\n",
    "y_sum"
   ]
  },
  {
   "cell_type": "code",
   "execution_count": 177,
   "metadata": {},
   "outputs": [
    {
     "data": {
      "text/plain": [
       "23.00606818267493"
      ]
     },
     "execution_count": 177,
     "metadata": {},
     "output_type": "execute_result"
    }
   ],
   "source": [
    "x2_sum = np.sum(x1_arr*x1_arr)\n",
    "x2_sum"
   ]
  },
  {
   "cell_type": "code",
   "execution_count": 189,
   "metadata": {},
   "outputs": [
    {
     "data": {
      "text/plain": [
       "16.85442875591156"
      ]
     },
     "execution_count": 189,
     "metadata": {},
     "output_type": "execute_result"
    }
   ],
   "source": [
    "xy_sum = np.sum(x1_arr*y1_arr)\n",
    "xy_sum"
   ]
  },
  {
   "cell_type": "code",
   "execution_count": 190,
   "metadata": {},
   "outputs": [],
   "source": [
    "import math\n",
    "den = (int(s)*x2_sum)-math.pow(x_sum,2)\n",
    "a = ((y_sum*x2_sum)-(x_sum*xy_sum))/den\n",
    "b = ((int(s)*xy_sum)-(x_sum*y_sum))/den"
   ]
  },
  {
   "cell_type": "code",
   "execution_count": 191,
   "metadata": {},
   "outputs": [
    {
     "data": {
      "text/plain": [
       "4.203354056017979"
      ]
     },
     "execution_count": 191,
     "metadata": {},
     "output_type": "execute_result"
    }
   ],
   "source": [
    "a "
   ]
  },
  {
   "cell_type": "code",
   "execution_count": 198,
   "metadata": {},
   "outputs": [
    {
     "data": {
      "text/plain": [
       "-1.4042040049308877"
      ]
     },
     "execution_count": 198,
     "metadata": {},
     "output_type": "execute_result"
    }
   ],
   "source": [
    "b"
   ]
  },
  {
   "cell_type": "code",
   "execution_count": 203,
   "metadata": {},
   "outputs": [
    {
     "data": {
      "image/png": "[encoded data removed]",
      "text/plain": [
       "<Figure size 432x288 with 1 Axes>"
      ]
     },
     "metadata": {
      "needs_background": "light"
     },
     "output_type": "display_data"
    }
   ],
   "source": [
    "plot_regression_line(x1_arr,y1_arr,np.array([a,b]))"
   ]
  }
 ],
 "metadata": {
  "kernelspec": {
   "display_name": "Python 3",
   "language": "python",
   "name": "python3"
  },
  "language_info": {
   "codemirror_mode": {
    "name": "ipython",
    "version": 3
   },
   "file_extension": ".py",
   "mimetype": "text/x-python",
   "name": "python",
   "nbconvert_exporter": "python",
   "pygments_lexer": "ipython3",
   "version": "3.7.3"
  }
 },
 "nbformat": 4,
 "nbformat_minor": 2
}
